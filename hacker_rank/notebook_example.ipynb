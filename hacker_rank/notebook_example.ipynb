{
 "cells": [
  {
   "cell_type": "code",
   "execution_count": 1,
   "metadata": {},
   "outputs": [
    {
     "name": "stderr",
     "output_type": "stream",
     "text": [
      "your 131072x1 screen size is bogus. expect trouble\n",
      "24/10/23 14:02:39 WARN Utils: Your hostname, Abhijit resolves to a loopback address: 127.0.1.1; using 192.168.95.41 instead (on interface eth0)\n",
      "24/10/23 14:02:39 WARN Utils: Set SPARK_LOCAL_IP if you need to bind to another address\n",
      "Setting default log level to \"WARN\".\n",
      "To adjust logging level use sc.setLogLevel(newLevel). For SparkR, use setLogLevel(newLevel).\n",
      "24/10/23 14:02:41 WARN NativeCodeLoader: Unable to load native-hadoop library for your platform... using builtin-java classes where applicable\n"
     ]
    },
    {
     "name": "stdout",
     "output_type": "stream",
     "text": [
      "root\n",
      " |-- Language: string (nullable = true)\n",
      " |-- Version: string (nullable = true)\n",
      "\n"
     ]
    },
    {
     "name": "stderr",
     "output_type": "stream",
     "text": [
      "                                                                                \r"
     ]
    },
    {
     "name": "stdout",
     "output_type": "stream",
     "text": [
      "+--------+-------------+\n",
      "|Language|Version      |\n",
      "+--------+-------------+\n",
      "|Jdk     |17.0.12      |\n",
      "|Python  |3.11.9       |\n",
      "|Spark   |3.5.1        |\n",
      "|Hadoop  |3.3 and later|\n",
      "|Winutils|3.6          |\n",
      "+--------+-------------+\n",
      "\n"
     ]
    }
   ],
   "source": [
    "# Imports\n",
    "from pyspark.sql import SparkSession\n",
    "\n",
    "# Create SparkSession\n",
    "spark = SparkSession.builder.appName('PySpark Sample DataFrame').getOrCreate()\n",
    "\n",
    "# Define Schema\n",
    "col_schema = [\"Language\", \"Version\"]\n",
    "\n",
    "# Prepare Data\n",
    "Data = ((\"Jdk\",\"17.0.12\"), (\"Python\", \"3.11.9\"), (\"Spark\", \"3.5.1\"),   \\\n",
    "    (\"Hadoop\", \"3.3 and later\"), (\"Winutils\", \"3.6\"),  \\\n",
    "  )\n",
    "\n",
    "# Create DataFrame\n",
    "df = spark.createDataFrame(data = Data, schema = col_schema)\n",
    "df.printSchema()\n",
    "df.show(5,truncate=False)"
   ]
  },
  {
   "cell_type": "code",
   "execution_count": 1,
   "metadata": {},
   "outputs": [
    {
     "name": "stdout",
     "output_type": "stream",
     "text": [
      "What's next\n"
     ]
    }
   ],
   "source": [
    "print(\"What's next\")"
   ]
  }
 ],
 "metadata": {
  "kernelspec": {
   "display_name": "Python 3",
   "language": "python",
   "name": "python3"
  },
  "language_info": {
   "codemirror_mode": {
    "name": "ipython",
    "version": 3
   },
   "file_extension": ".py",
   "mimetype": "text/x-python",
   "name": "python",
   "nbconvert_exporter": "python",
   "pygments_lexer": "ipython3",
   "version": "3.10.12"
  }
 },
 "nbformat": 4,
 "nbformat_minor": 2
}
